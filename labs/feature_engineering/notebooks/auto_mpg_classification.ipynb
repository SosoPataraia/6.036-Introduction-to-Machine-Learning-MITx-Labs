{
 "cells": [
  {
   "cell_type": "code",
   "execution_count": 3,
   "id": "93bbad40",
   "metadata": {},
   "outputs": [
    {
     "ename": "FileNotFoundError",
     "evalue": "[WinError 2] The system cannot find the file specified: 'C:\\\\Users\\\\josep\\\\OneDrive\\\\Desktop\\\\perceptron-from-scratch'",
     "output_type": "error",
     "traceback": [
      "\u001b[31m---------------------------------------------------------------------------\u001b[39m",
      "\u001b[31mFileNotFoundError\u001b[39m                         Traceback (most recent call last)",
      "\u001b[36mCell\u001b[39m\u001b[36m \u001b[39m\u001b[32mIn[3]\u001b[39m\u001b[32m, line 2\u001b[39m\n\u001b[32m      1\u001b[39m \u001b[38;5;28;01mimport\u001b[39;00m\u001b[38;5;250m \u001b[39m\u001b[34;01mos\u001b[39;00m\n\u001b[32m----> \u001b[39m\u001b[32m2\u001b[39m \u001b[43mos\u001b[49m\u001b[43m.\u001b[49m\u001b[43mchdir\u001b[49m\u001b[43m(\u001b[49m\u001b[33;43m'\u001b[39;49m\u001b[33;43mC:\u001b[39;49m\u001b[38;5;130;43;01m\\\\\u001b[39;49;00m\u001b[33;43mUsers\u001b[39;49m\u001b[38;5;130;43;01m\\\\\u001b[39;49;00m\u001b[33;43mjosep\u001b[39;49m\u001b[38;5;130;43;01m\\\\\u001b[39;49;00m\u001b[33;43mOneDrive\u001b[39;49m\u001b[38;5;130;43;01m\\\\\u001b[39;49;00m\u001b[33;43mDesktop\u001b[39;49m\u001b[38;5;130;43;01m\\\\\u001b[39;49;00m\u001b[33;43mperceptron-from-scratch\u001b[39;49m\u001b[33;43m'\u001b[39;49m\u001b[43m)\u001b[49m\n\u001b[32m      3\u001b[39m \u001b[38;5;28mprint\u001b[39m(\u001b[33m\"\u001b[39m\u001b[33mWorking directory:\u001b[39m\u001b[33m\"\u001b[39m, os.getcwd())\n\u001b[32m      5\u001b[39m \u001b[38;5;28;01mimport\u001b[39;00m\u001b[38;5;250m \u001b[39m\u001b[34;01mpandas\u001b[39;00m\u001b[38;5;250m \u001b[39m\u001b[38;5;28;01mas\u001b[39;00m\u001b[38;5;250m \u001b[39m\u001b[34;01mpd\u001b[39;00m\n",
      "\u001b[31mFileNotFoundError\u001b[39m: [WinError 2] The system cannot find the file specified: 'C:\\\\Users\\\\josep\\\\OneDrive\\\\Desktop\\\\perceptron-from-scratch'"
     ]
    }
   ],
   "source": [
    "import os\n",
    "os.chdir('C:\\\\Users\\\\josep\\\\OneDrive\\\\Desktop\\\\perceptron-from-scratch')\n",
    "print(\"Working directory:\", os.getcwd())\n",
    "\n",
    "import pandas as pd\n",
    "from labs.feature_engineering.src.feature_engineering import load_auto_mpg, preprocess_features, preprocess_car_name, evaluate_representation\n",
    "\n",
    "# Load data\n",
    "df = load_auto_mpg('labs/feature_engineering/data/auto-mpg.tsv')\n",
    "y = df['mpg'].values"
   ]
  },
  {
   "cell_type": "markdown",
   "id": "6b2f5e68",
   "metadata": {},
   "source": [
    "# 1A: Problems with raw features\n",
    "\"\"\"\n",
    "Using raw features may lead to:\n",
    "- Poor generalization: Features like model_year (e.g., 70–82) or displacement (in cubic inches) have large ranges, dominating the perceptron's weights.\n",
    "- Sensitivity to scale: Features with different units (e.g., horsepower vs. acceleration) affect weight updates unevenly.\n",
    "- No handling of categorical data: origin and cylinders need encoding.\n",
    "- Temporal mismatch: 2019 cars may have different feature distributions (e.g., hybrid engines), reducing model relevance.\n",
    "\"\"\""
   ]
  },
  {
   "cell_type": "markdown",
   "id": "bd84fe81",
   "metadata": {},
   "source": [
    "# 1B: Feature representation choices\n"
   ]
  },
  {
   "cell_type": "code",
   "execution_count": null,
   "id": "159b37bb",
   "metadata": {},
   "outputs": [],
   "source": [
    "feature_configs = {\n",
    "    'cylinders': 'one-hot',  # Discrete (3,4,5,6,8); one-hot captures categories without assuming order\n",
    "    'displacement': 'standard',  # Continuous; standardize to normalize scale\n",
    "    'horsepower': 'standard',  # Continuous; standardize for consistency\n",
    "    'weight': 'standard',  # Continuous; standardize to balance contribution\n",
    "    'acceleration': 'standard',  # Continuous; standardize to normalize\n",
    "    'model_year': 'one-hot',  # Discrete (70–82); one-hot avoids ordinal assumption\n",
    "    'origin': 'one-hot'  # Categorical (1,2,3); one-hot for proper encoding\n",
    "}"
   ]
  },
  {
   "cell_type": "markdown",
   "id": "24c69aed",
   "metadata": {},
   "source": [
    "\"\"\"\n",
    "Tradeoffs:\n",
    "- cylinders: one-hot vs. raw (ordinal assumption incorrect); drop loses info.\n",
    "- displacement/horsepower/weight/acceleration: standard vs. raw (scale issues); drop loses key predictors.\n",
    "- model_year: one-hot vs. raw (non-linear effect); drop ignores temporal trends.\n",
    "- origin: one-hot vs. raw (categorical, not ordinal); drop loses origin effect.\n",
    "\"\"\""
   ]
  },
  {
   "cell_type": "markdown",
   "id": "aeaed5cd",
   "metadata": {},
   "source": [
    "# 1C: Car name transformation\n"
   ]
  },
  {
   "cell_type": "code",
   "execution_count": 5,
   "id": "f541d765",
   "metadata": {},
   "outputs": [
    {
     "ename": "NameError",
     "evalue": "name 'preprocess_car_name' is not defined",
     "output_type": "error",
     "traceback": [
      "\u001b[31m---------------------------------------------------------------------------\u001b[39m",
      "\u001b[31mNameError\u001b[39m                                 Traceback (most recent call last)",
      "\u001b[36mCell\u001b[39m\u001b[36m \u001b[39m\u001b[32mIn[5]\u001b[39m\u001b[32m, line 1\u001b[39m\n\u001b[32m----> \u001b[39m\u001b[32m1\u001b[39m car_name_feature = \u001b[43mpreprocess_car_name\u001b[49m(df)\n",
      "\u001b[31mNameError\u001b[39m: name 'preprocess_car_name' is not defined"
     ]
    }
   ],
   "source": [
    "car_name_feature = preprocess_car_name(df)"
   ]
  },
  {
   "cell_type": "markdown",
   "id": "858bebd7",
   "metadata": {},
   "source": [
    "\"\"\"\n",
    "Car name (text) can be transformed by:\n",
    "- Length of name: Simple numeric feature, may correlate with brand complexity.\n",
    "- Brand extraction: One-hot encode manufacturer (e.g., Ford, Toyota), but requires parsing.\n",
    "- Word embeddings: Advanced, but complex for perceptron.\n",
    "Tradeoff: Length is simple but less informative; brand is more meaningful but needs cleaning.\n",
    "\"\"\""
   ]
  },
  {
   "cell_type": "markdown",
   "id": "45614016",
   "metadata": {},
   "source": [
    "# 1D: Evaluate feature representations\n"
   ]
  },
  {
   "cell_type": "code",
   "execution_count": 6,
   "id": "a776b8c2",
   "metadata": {},
   "outputs": [
    {
     "ename": "NameError",
     "evalue": "name 'preprocess_features' is not defined",
     "output_type": "error",
     "traceback": [
      "\u001b[31m---------------------------------------------------------------------------\u001b[39m",
      "\u001b[31mNameError\u001b[39m                                 Traceback (most recent call last)",
      "\u001b[36mCell\u001b[39m\u001b[36m \u001b[39m\u001b[32mIn[6]\u001b[39m\u001b[32m, line 7\u001b[39m\n\u001b[32m      1\u001b[39m representations = [\n\u001b[32m      2\u001b[39m     {\u001b[33m'\u001b[39m\u001b[33mcylinders\u001b[39m\u001b[33m'\u001b[39m: \u001b[33m'\u001b[39m\u001b[33mraw\u001b[39m\u001b[33m'\u001b[39m, \u001b[33m'\u001b[39m\u001b[33mdisplacement\u001b[39m\u001b[33m'\u001b[39m: \u001b[33m'\u001b[39m\u001b[33mraw\u001b[39m\u001b[33m'\u001b[39m, \u001b[33m'\u001b[39m\u001b[33mhorsepower\u001b[39m\u001b[33m'\u001b[39m: \u001b[33m'\u001b[39m\u001b[33mraw\u001b[39m\u001b[33m'\u001b[39m, \u001b[33m'\u001b[39m\u001b[33mweight\u001b[39m\u001b[33m'\u001b[39m: \u001b[33m'\u001b[39m\u001b[33mraw\u001b[39m\u001b[33m'\u001b[39m, \u001b[33m'\u001b[39m\u001b[33macceleration\u001b[39m\u001b[33m'\u001b[39m: \u001b[33m'\u001b[39m\u001b[33mraw\u001b[39m\u001b[33m'\u001b[39m, \u001b[33m'\u001b[39m\u001b[33mmodel_year\u001b[39m\u001b[33m'\u001b[39m: \u001b[33m'\u001b[39m\u001b[33mraw\u001b[39m\u001b[33m'\u001b[39m, \u001b[33m'\u001b[39m\u001b[33morigin\u001b[39m\u001b[33m'\u001b[39m: \u001b[33m'\u001b[39m\u001b[33mraw\u001b[39m\u001b[33m'\u001b[39m},\n\u001b[32m      3\u001b[39m     feature_configs,\n\u001b[32m      4\u001b[39m     {\u001b[33m'\u001b[39m\u001b[33mcylinders\u001b[39m\u001b[33m'\u001b[39m: \u001b[33m'\u001b[39m\u001b[33mone-hot\u001b[39m\u001b[33m'\u001b[39m, \u001b[33m'\u001b[39m\u001b[33mdisplacement\u001b[39m\u001b[33m'\u001b[39m: \u001b[33m'\u001b[39m\u001b[33mstandard\u001b[39m\u001b[33m'\u001b[39m, \u001b[33m'\u001b[39m\u001b[33mhorsepower\u001b[39m\u001b[33m'\u001b[39m: \u001b[33m'\u001b[39m\u001b[33mstandard\u001b[39m\u001b[33m'\u001b[39m, \u001b[33m'\u001b[39m\u001b[33mweight\u001b[39m\u001b[33m'\u001b[39m: \u001b[33m'\u001b[39m\u001b[33mstandard\u001b[39m\u001b[33m'\u001b[39m, \u001b[33m'\u001b[39m\u001b[33macceleration\u001b[39m\u001b[33m'\u001b[39m: \u001b[33m'\u001b[39m\u001b[33mdrop\u001b[39m\u001b[33m'\u001b[39m, \u001b[33m'\u001b[39m\u001b[33mmodel_year\u001b[39m\u001b[33m'\u001b[39m: \u001b[33m'\u001b[39m\u001b[33mone-hot\u001b[39m\u001b[33m'\u001b[39m, \u001b[33m'\u001b[39m\u001b[33morigin\u001b[39m\u001b[33m'\u001b[39m: \u001b[33m'\u001b[39m\u001b[33mone-hot\u001b[39m\u001b[33m'\u001b[39m}\n\u001b[32m      5\u001b[39m ]\n\u001b[32m      6\u001b[39m \u001b[38;5;28;01mfor\u001b[39;00m i, config \u001b[38;5;129;01min\u001b[39;00m \u001b[38;5;28menumerate\u001b[39m(representations):\n\u001b[32m----> \u001b[39m\u001b[32m7\u001b[39m     X = \u001b[43mpreprocess_features\u001b[49m(df, config)\n\u001b[32m      8\u001b[39m     accuracy = evaluate_representation(X, y, method=\u001b[33m'\u001b[39m\u001b[33mcross_val\u001b[39m\u001b[33m'\u001b[39m)\n\u001b[32m      9\u001b[39m     \u001b[38;5;28mprint\u001b[39m(\u001b[33mf\u001b[39m\u001b[33m\"\u001b[39m\u001b[33mRepresentation \u001b[39m\u001b[38;5;132;01m{\u001b[39;00mi+\u001b[32m1\u001b[39m\u001b[38;5;132;01m}\u001b[39;00m\u001b[33m accuracy (10-fold CV): \u001b[39m\u001b[38;5;132;01m{\u001b[39;00maccuracy\u001b[38;5;132;01m:\u001b[39;00m\u001b[33m.4f\u001b[39m\u001b[38;5;132;01m}\u001b[39;00m\u001b[33m\"\u001b[39m)\n",
      "\u001b[31mNameError\u001b[39m: name 'preprocess_features' is not defined"
     ]
    }
   ],
   "source": [
    "representations = [\n",
    "    {'cylinders': 'raw', 'displacement': 'raw', 'horsepower': 'raw', 'weight': 'raw', 'acceleration': 'raw', 'model_year': 'raw', 'origin': 'raw'},\n",
    "    feature_configs,\n",
    "    {'cylinders': 'one-hot', 'displacement': 'standard', 'horsepower': 'standard', 'weight': 'standard', 'acceleration': 'drop', 'model_year': 'one-hot', 'origin': 'one-hot'}\n",
    "]\n",
    "for i, config in enumerate(representations):\n",
    "    X = preprocess_features(df, config)\n",
    "    accuracy = evaluate_representation(X, y, method='cross_val')\n",
    "    print(f\"Representation {i+1} accuracy (10-fold CV): {accuracy:.4f}\")"
   ]
  },
  {
   "cell_type": "markdown",
   "id": "4fb60c00",
   "metadata": {},
   "source": [
    "\"\"\"\n",
    "Best method: 10-fold cross-validation (option 4).\n",
    "- Full data (option 1): Overfits, no generalization estimate.\n",
    "- Train+test sum (option 2): Biases toward training performance.\n",
    "- Test split (option 3): Single split may be unrepresentative.\n",
    "- Cross-val (option 4): Robust estimate of generalization, uses all data efficiently.\n",
    "\"\"\""
   ]
  }
 ],
 "metadata": {
  "kernelspec": {
   "display_name": "myenv",
   "language": "python",
   "name": "python3"
  },
  "language_info": {
   "codemirror_mode": {
    "name": "ipython",
    "version": 3
   },
   "file_extension": ".py",
   "mimetype": "text/x-python",
   "name": "python",
   "nbconvert_exporter": "python",
   "pygments_lexer": "ipython3",
   "version": "3.13.3"
  }
 },
 "nbformat": 4,
 "nbformat_minor": 5
}
